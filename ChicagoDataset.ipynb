{
  "nbformat": 4,
  "nbformat_minor": 0,
  "metadata": {
    "colab": {
      "provenance": []
    },
    "kernelspec": {
      "name": "python3",
      "display_name": "Python 3"
    },
    "language_info": {
      "name": "python"
    }
  },
  "cells": [
    {
      "cell_type": "code",
      "execution_count": null,
      "metadata": {
        "id": "KXb2We--CvW1"
      },
      "outputs": [],
      "source": [
        "%load_ext sql"
      ]
    },
    {
      "cell_type": "code",
      "source": [
        "import csv, sqlite3 # enables csv and sqlite3\n",
        "\n",
        "con = sqlite3.connect(\"socioeconomic.db\")\n",
        "#connects sqlite to the database named socioeconomic.db\n",
        "cur = con.cursor() #cursor is connected to the connection object\n"
      ],
      "metadata": {
        "id": "u4Iv8BSEDUPv"
      },
      "execution_count": null,
      "outputs": []
    },
    {
      "cell_type": "code",
      "source": [
        "%sql sqlite:///socioeconomic.db\n",
        "#lets you ask sql queries"
      ],
      "metadata": {
        "id": "K8LkdV8uKtTC"
      },
      "execution_count": null,
      "outputs": []
    },
    {
      "cell_type": "code",
      "source": [
        "import pandas as pd"
      ],
      "metadata": {
        "id": "XHyzJYbZKvI5"
      },
      "execution_count": null,
      "outputs": []
    },
    {
      "cell_type": "markdown",
      "source": [],
      "metadata": {
        "id": "WZqBcQdQPIAB"
      }
    },
    {
      "cell_type": "code",
      "source": [
        "df1=pd.read_csv(\"ChicagoPublicSchools.csv\")"
      ],
      "metadata": {
        "id": "6NblY7-UK483"
      },
      "execution_count": null,
      "outputs": []
    },
    {
      "cell_type": "code",
      "source": [
        "df2=pd.read_csv(\"ChicagoCrimeData.csv\")"
      ],
      "metadata": {
        "id": "ZfMxwQ9MLIGg"
      },
      "execution_count": null,
      "outputs": []
    },
    {
      "cell_type": "code",
      "source": [
        "df3=pd.read_csv(\"ChicagoCensusData.csv\")"
      ],
      "metadata": {
        "id": "xZelsmuDLmHb"
      },
      "execution_count": null,
      "outputs": []
    },
    {
      "cell_type": "code",
      "source": [
        "df1.to_sql(\"Public\", con, if_exists='replace', index=False,method=\"multi\")"
      ],
      "metadata": {
        "colab": {
          "base_uri": "https://localhost:8080/"
        },
        "id": "xat_jOXKLxKY",
        "outputId": "1da01a06-6279-4155-adfb-e06eace74ed1"
      },
      "execution_count": null,
      "outputs": [
        {
          "output_type": "execute_result",
          "data": {
            "text/plain": [
              "566"
            ]
          },
          "metadata": {},
          "execution_count": 10
        }
      ]
    },
    {
      "cell_type": "code",
      "source": [
        "df2.to_sql(\"Crime\", con, if_exists='replace', index=False,method=\"multi\")"
      ],
      "metadata": {
        "colab": {
          "base_uri": "https://localhost:8080/"
        },
        "id": "cZJ8PMAlMJra",
        "outputId": "59f8239f-d30c-49cb-ecc2-a1e361d3f0ef"
      },
      "execution_count": null,
      "outputs": [
        {
          "output_type": "execute_result",
          "data": {
            "text/plain": [
              "533"
            ]
          },
          "metadata": {},
          "execution_count": 11
        }
      ]
    },
    {
      "cell_type": "code",
      "source": [
        "df3.to_sql(\"Census\", con, if_exists='replace', index=False,method=\"multi\")"
      ],
      "metadata": {
        "colab": {
          "base_uri": "https://localhost:8080/"
        },
        "id": "40dj0W0VMNQT",
        "outputId": "0af20ae1-3128-4a71-8f8b-5abdac28298b"
      },
      "execution_count": null,
      "outputs": [
        {
          "output_type": "execute_result",
          "data": {
            "text/plain": [
              "78"
            ]
          },
          "metadata": {},
          "execution_count": 13
        }
      ]
    },
    {
      "cell_type": "code",
      "source": [
        "%sql SELECT * FROM Census limit 5;"
      ],
      "metadata": {
        "colab": {
          "base_uri": "https://localhost:8080/",
          "height": 202
        },
        "id": "0GuHmB0fMhS3",
        "outputId": "69d26680-1515-4d0f-927d-dd4dc5f15106"
      },
      "execution_count": null,
      "outputs": [
        {
          "output_type": "stream",
          "name": "stdout",
          "text": [
            " * sqlite:///socioeconomic.db\n",
            "Done.\n"
          ]
        },
        {
          "output_type": "execute_result",
          "data": {
            "text/plain": [
              "[(1.0, 'Rogers Park', 7.7, 23.6, 8.7, 18.2, 27.5, 23939, 39.0),\n",
              " (2.0, 'West Ridge', 7.8, 17.2, 8.8, 20.8, 38.5, 23040, 46.0),\n",
              " (3.0, 'Uptown', 3.8, 24.0, 8.9, 11.8, 22.2, 35787, 20.0),\n",
              " (4.0, 'Lincoln Square', 3.4, 10.9, 8.2, 13.4, 25.5, 37524, 17.0),\n",
              " (5.0, 'North Center', 0.3, 7.5, 5.2, 4.5, 26.2, 57123, 6.0)]"
            ],
            "text/html": [
              "<table>\n",
              "    <thead>\n",
              "        <tr>\n",
              "            <th>COMMUNITY_AREA_NUMBER</th>\n",
              "            <th>COMMUNITY_AREA_NAME</th>\n",
              "            <th>PERCENT_OF_HOUSING_CROWDED</th>\n",
              "            <th>PERCENT_HOUSEHOLDS_BELOW_POVERTY</th>\n",
              "            <th>PERCENT_AGED_16__UNEMPLOYED</th>\n",
              "            <th>PERCENT_AGED_25__WITHOUT_HIGH_SCHOOL_DIPLOMA</th>\n",
              "            <th>PERCENT_AGED_UNDER_18_OR_OVER_64</th>\n",
              "            <th>PER_CAPITA_INCOME</th>\n",
              "            <th>HARDSHIP_INDEX</th>\n",
              "        </tr>\n",
              "    </thead>\n",
              "    <tbody>\n",
              "        <tr>\n",
              "            <td>1.0</td>\n",
              "            <td>Rogers Park</td>\n",
              "            <td>7.7</td>\n",
              "            <td>23.6</td>\n",
              "            <td>8.7</td>\n",
              "            <td>18.2</td>\n",
              "            <td>27.5</td>\n",
              "            <td>23939</td>\n",
              "            <td>39.0</td>\n",
              "        </tr>\n",
              "        <tr>\n",
              "            <td>2.0</td>\n",
              "            <td>West Ridge</td>\n",
              "            <td>7.8</td>\n",
              "            <td>17.2</td>\n",
              "            <td>8.8</td>\n",
              "            <td>20.8</td>\n",
              "            <td>38.5</td>\n",
              "            <td>23040</td>\n",
              "            <td>46.0</td>\n",
              "        </tr>\n",
              "        <tr>\n",
              "            <td>3.0</td>\n",
              "            <td>Uptown</td>\n",
              "            <td>3.8</td>\n",
              "            <td>24.0</td>\n",
              "            <td>8.9</td>\n",
              "            <td>11.8</td>\n",
              "            <td>22.2</td>\n",
              "            <td>35787</td>\n",
              "            <td>20.0</td>\n",
              "        </tr>\n",
              "        <tr>\n",
              "            <td>4.0</td>\n",
              "            <td>Lincoln Square</td>\n",
              "            <td>3.4</td>\n",
              "            <td>10.9</td>\n",
              "            <td>8.2</td>\n",
              "            <td>13.4</td>\n",
              "            <td>25.5</td>\n",
              "            <td>37524</td>\n",
              "            <td>17.0</td>\n",
              "        </tr>\n",
              "        <tr>\n",
              "            <td>5.0</td>\n",
              "            <td>North Center</td>\n",
              "            <td>0.3</td>\n",
              "            <td>7.5</td>\n",
              "            <td>5.2</td>\n",
              "            <td>4.5</td>\n",
              "            <td>26.2</td>\n",
              "            <td>57123</td>\n",
              "            <td>6.0</td>\n",
              "        </tr>\n",
              "    </tbody>\n",
              "</table>"
            ]
          },
          "metadata": {},
          "execution_count": 14
        }
      ]
    },
    {
      "cell_type": "code",
      "source": [
        "%sql SELECT * FROM Crime limit 5;"
      ],
      "metadata": {
        "colab": {
          "base_uri": "https://localhost:8080/",
          "height": 358
        },
        "id": "op03QumrNOLy",
        "outputId": "86b402ab-68f2-47a0-91a5-f687422012a5"
      },
      "execution_count": null,
      "outputs": [
        {
          "output_type": "stream",
          "name": "stdout",
          "text": [
            " * sqlite:///socioeconomic.db\n",
            "Done.\n"
          ]
        },
        {
          "output_type": "execute_result",
          "data": {
            "text/plain": [
              "[(3512276, 'HK587712', '2004-08-28', '047XX S KEDZIE AVE', '890', 'THEFT', 'FROM BUILDING', 'SMALL RETAIL STORE', 0, 0, 911, 9, 14.0, 58.0, '6', 1155838.0, 1873050.0, 2004, 41.8074405, -87.70395585, '(41.8074405, -87.703955849)'),\n",
              " (3406613, 'HK456306', '2004-06-26', '009XX N CENTRAL PARK AVE', '820', 'THEFT', '$500 AND UNDER', 'OTHER', 0, 0, 1112, 11, 27.0, 23.0, '6', 1152206.0, 1906127.0, 2004, 41.89827996, -87.71640551, '(41.898279962, -87.716405505)'),\n",
              " (8002131, 'HT233595', '2011-04-04', '043XX S WABASH AVE', '820', 'THEFT', '$500 AND UNDER', 'NURSING HOME/RETIREMENT HOME', 0, 0, 221, 2, 3.0, 38.0, '6', 1177436.0, 1876313.0, 2011, 41.81593313, -87.62464213, '(41.815933131, -87.624642127)'),\n",
              " (7903289, 'HT133522', '2010-12-30', '083XX S KINGSTON AVE', '840', 'THEFT', 'FINANCIAL ID THEFT: OVER $300', 'RESIDENCE', 0, 0, 423, 4, 7.0, 46.0, '6', 1194622.0, 1850125.0, 2010, 41.74366532, -87.56246276, '(41.743665322, -87.562462756)'),\n",
              " (10402076, 'HZ138551', '2016-02-02', '033XX W 66TH ST', '820', 'THEFT', '$500 AND UNDER', 'ALLEY', 0, 0, 831, 8, 15.0, 66.0, '6', 1155240.0, 1860661.0, 2016, 41.7734553, -87.70648047, '(41.773455295, -87.706480471)')]"
            ],
            "text/html": [
              "<table>\n",
              "    <thead>\n",
              "        <tr>\n",
              "            <th>ID</th>\n",
              "            <th>CASE_NUMBER</th>\n",
              "            <th>DATE</th>\n",
              "            <th>BLOCK</th>\n",
              "            <th>IUCR</th>\n",
              "            <th>PRIMARY_TYPE</th>\n",
              "            <th>DESCRIPTION</th>\n",
              "            <th>LOCATION_DESCRIPTION</th>\n",
              "            <th>ARREST</th>\n",
              "            <th>DOMESTIC</th>\n",
              "            <th>BEAT</th>\n",
              "            <th>DISTRICT</th>\n",
              "            <th>WARD</th>\n",
              "            <th>COMMUNITY_AREA_NUMBER</th>\n",
              "            <th>FBICODE</th>\n",
              "            <th>X_COORDINATE</th>\n",
              "            <th>Y_COORDINATE</th>\n",
              "            <th>YEAR</th>\n",
              "            <th>LATITUDE</th>\n",
              "            <th>LONGITUDE</th>\n",
              "            <th>LOCATION</th>\n",
              "        </tr>\n",
              "    </thead>\n",
              "    <tbody>\n",
              "        <tr>\n",
              "            <td>3512276</td>\n",
              "            <td>HK587712</td>\n",
              "            <td>2004-08-28</td>\n",
              "            <td>047XX S KEDZIE AVE</td>\n",
              "            <td>890</td>\n",
              "            <td>THEFT</td>\n",
              "            <td>FROM BUILDING</td>\n",
              "            <td>SMALL RETAIL STORE</td>\n",
              "            <td>0</td>\n",
              "            <td>0</td>\n",
              "            <td>911</td>\n",
              "            <td>9</td>\n",
              "            <td>14.0</td>\n",
              "            <td>58.0</td>\n",
              "            <td>6</td>\n",
              "            <td>1155838.0</td>\n",
              "            <td>1873050.0</td>\n",
              "            <td>2004</td>\n",
              "            <td>41.8074405</td>\n",
              "            <td>-87.70395585</td>\n",
              "            <td>(41.8074405, -87.703955849)</td>\n",
              "        </tr>\n",
              "        <tr>\n",
              "            <td>3406613</td>\n",
              "            <td>HK456306</td>\n",
              "            <td>2004-06-26</td>\n",
              "            <td>009XX N CENTRAL PARK AVE</td>\n",
              "            <td>820</td>\n",
              "            <td>THEFT</td>\n",
              "            <td>$500 AND UNDER</td>\n",
              "            <td>OTHER</td>\n",
              "            <td>0</td>\n",
              "            <td>0</td>\n",
              "            <td>1112</td>\n",
              "            <td>11</td>\n",
              "            <td>27.0</td>\n",
              "            <td>23.0</td>\n",
              "            <td>6</td>\n",
              "            <td>1152206.0</td>\n",
              "            <td>1906127.0</td>\n",
              "            <td>2004</td>\n",
              "            <td>41.89827996</td>\n",
              "            <td>-87.71640551</td>\n",
              "            <td>(41.898279962, -87.716405505)</td>\n",
              "        </tr>\n",
              "        <tr>\n",
              "            <td>8002131</td>\n",
              "            <td>HT233595</td>\n",
              "            <td>2011-04-04</td>\n",
              "            <td>043XX S WABASH AVE</td>\n",
              "            <td>820</td>\n",
              "            <td>THEFT</td>\n",
              "            <td>$500 AND UNDER</td>\n",
              "            <td>NURSING HOME/RETIREMENT HOME</td>\n",
              "            <td>0</td>\n",
              "            <td>0</td>\n",
              "            <td>221</td>\n",
              "            <td>2</td>\n",
              "            <td>3.0</td>\n",
              "            <td>38.0</td>\n",
              "            <td>6</td>\n",
              "            <td>1177436.0</td>\n",
              "            <td>1876313.0</td>\n",
              "            <td>2011</td>\n",
              "            <td>41.81593313</td>\n",
              "            <td>-87.62464213</td>\n",
              "            <td>(41.815933131, -87.624642127)</td>\n",
              "        </tr>\n",
              "        <tr>\n",
              "            <td>7903289</td>\n",
              "            <td>HT133522</td>\n",
              "            <td>2010-12-30</td>\n",
              "            <td>083XX S KINGSTON AVE</td>\n",
              "            <td>840</td>\n",
              "            <td>THEFT</td>\n",
              "            <td>FINANCIAL ID THEFT: OVER $300</td>\n",
              "            <td>RESIDENCE</td>\n",
              "            <td>0</td>\n",
              "            <td>0</td>\n",
              "            <td>423</td>\n",
              "            <td>4</td>\n",
              "            <td>7.0</td>\n",
              "            <td>46.0</td>\n",
              "            <td>6</td>\n",
              "            <td>1194622.0</td>\n",
              "            <td>1850125.0</td>\n",
              "            <td>2010</td>\n",
              "            <td>41.74366532</td>\n",
              "            <td>-87.56246276</td>\n",
              "            <td>(41.743665322, -87.562462756)</td>\n",
              "        </tr>\n",
              "        <tr>\n",
              "            <td>10402076</td>\n",
              "            <td>HZ138551</td>\n",
              "            <td>2016-02-02</td>\n",
              "            <td>033XX W 66TH ST</td>\n",
              "            <td>820</td>\n",
              "            <td>THEFT</td>\n",
              "            <td>$500 AND UNDER</td>\n",
              "            <td>ALLEY</td>\n",
              "            <td>0</td>\n",
              "            <td>0</td>\n",
              "            <td>831</td>\n",
              "            <td>8</td>\n",
              "            <td>15.0</td>\n",
              "            <td>66.0</td>\n",
              "            <td>6</td>\n",
              "            <td>1155240.0</td>\n",
              "            <td>1860661.0</td>\n",
              "            <td>2016</td>\n",
              "            <td>41.7734553</td>\n",
              "            <td>-87.70648047</td>\n",
              "            <td>(41.773455295, -87.706480471)</td>\n",
              "        </tr>\n",
              "    </tbody>\n",
              "</table>"
            ]
          },
          "metadata": {},
          "execution_count": 15
        }
      ]
    },
    {
      "cell_type": "code",
      "source": [],
      "metadata": {
        "id": "_glcXaUm6rax"
      },
      "execution_count": null,
      "outputs": []
    },
    {
      "cell_type": "code",
      "source": [
        "%sql SELECT COUNT(ID) FROM Crime\n"
      ],
      "metadata": {
        "colab": {
          "base_uri": "https://localhost:8080/",
          "height": 96
        },
        "id": "Zf2z_5PdNyMg",
        "outputId": "38dd540e-8944-4448-f43c-75ddc3a3851a"
      },
      "execution_count": null,
      "outputs": [
        {
          "output_type": "stream",
          "name": "stdout",
          "text": [
            " * sqlite:///socioeconomic.db\n",
            "Done.\n"
          ]
        },
        {
          "output_type": "execute_result",
          "data": {
            "text/plain": [
              "[(533,)]"
            ],
            "text/html": [
              "<table>\n",
              "    <thead>\n",
              "        <tr>\n",
              "            <th>COUNT(ID)</th>\n",
              "        </tr>\n",
              "    </thead>\n",
              "    <tbody>\n",
              "        <tr>\n",
              "            <td>533</td>\n",
              "        </tr>\n",
              "    </tbody>\n",
              "</table>"
            ]
          },
          "metadata": {},
          "execution_count": 16
        }
      ]
    },
    {
      "cell_type": "code",
      "source": [
        "%sql SELECT COMMUNITY_AREA_NUMBER, COMMUNITY_AREA_NAME FROM Census WHERE PER_CAPITA_INCOME < 11000"
      ],
      "metadata": {
        "colab": {
          "base_uri": "https://localhost:8080/",
          "height": 160
        },
        "id": "wYz5Nam_RUsF",
        "outputId": "7750dcca-3ec2-4dfd-ba9b-5d48cd4bdb97"
      },
      "execution_count": null,
      "outputs": [
        {
          "output_type": "stream",
          "name": "stdout",
          "text": [
            " * sqlite:///socioeconomic.db\n",
            "Done.\n"
          ]
        },
        {
          "output_type": "execute_result",
          "data": {
            "text/plain": [
              "[(26.0, 'West Garfield Park'),\n",
              " (30.0, 'South Lawndale'),\n",
              " (37.0, 'Fuller Park'),\n",
              " (54.0, 'Riverdale')]"
            ],
            "text/html": [
              "<table>\n",
              "    <thead>\n",
              "        <tr>\n",
              "            <th>COMMUNITY_AREA_NUMBER</th>\n",
              "            <th>COMMUNITY_AREA_NAME</th>\n",
              "        </tr>\n",
              "    </thead>\n",
              "    <tbody>\n",
              "        <tr>\n",
              "            <td>26.0</td>\n",
              "            <td>West Garfield Park</td>\n",
              "        </tr>\n",
              "        <tr>\n",
              "            <td>30.0</td>\n",
              "            <td>South Lawndale</td>\n",
              "        </tr>\n",
              "        <tr>\n",
              "            <td>37.0</td>\n",
              "            <td>Fuller Park</td>\n",
              "        </tr>\n",
              "        <tr>\n",
              "            <td>54.0</td>\n",
              "            <td>Riverdale</td>\n",
              "        </tr>\n",
              "    </tbody>\n",
              "</table>"
            ]
          },
          "metadata": {},
          "execution_count": 17
        }
      ]
    },
    {
      "cell_type": "code",
      "source": [
        "%sql SELECT COUNT(ID) FROM Crime WHERE DESCRIPTION LIKE '%MINOR%'\n"
      ],
      "metadata": {
        "id": "jzjhO4MzR21f",
        "colab": {
          "base_uri": "https://localhost:8080/",
          "height": 96
        },
        "outputId": "a5f8293d-4182-4716-9201-1b59d1247db1"
      },
      "execution_count": null,
      "outputs": [
        {
          "output_type": "stream",
          "name": "stdout",
          "text": [
            " * sqlite:///socioeconomic.db\n",
            "Done.\n"
          ]
        },
        {
          "output_type": "execute_result",
          "data": {
            "text/plain": [
              "[(2,)]"
            ],
            "text/html": [
              "<table>\n",
              "    <thead>\n",
              "        <tr>\n",
              "            <th>COUNT(ID)</th>\n",
              "        </tr>\n",
              "    </thead>\n",
              "    <tbody>\n",
              "        <tr>\n",
              "            <td>2</td>\n",
              "        </tr>\n",
              "    </tbody>\n",
              "</table>"
            ]
          },
          "metadata": {},
          "execution_count": 18
        }
      ]
    },
    {
      "cell_type": "code",
      "source": [
        "%sql SELECT * FROM Public limit 5;"
      ],
      "metadata": {
        "colab": {
          "base_uri": "https://localhost:8080/",
          "height": 462
        },
        "id": "7_ZXa8BW6sbm",
        "outputId": "656e2832-9d84-4d61-f80e-7b11b7b9f09d"
      },
      "execution_count": null,
      "outputs": [
        {
          "output_type": "stream",
          "name": "stdout",
          "text": [
            " * sqlite:///socioeconomic.db\n",
            "Done.\n"
          ]
        },
        {
          "output_type": "execute_result",
          "data": {
            "text/plain": [
              "[(610038, 'Abraham Lincoln Elementary School', 'ES', '615 W Kemper Pl', 'Chicago', 'IL', 60614, '(773) 534-5720', 'http://schoolreports.cps.edu/SchoolProgressReport_Eng/Spring2011Eng_610038.pdf', 'Fullerton Elementary Network', 'NORTH-NORTHWEST SIDE COLLABORATIVE', 'No', 'Standard', 'Not on Probation', 'Level 1', 'Yes', 'Very Strong', 99.0, 'Very Strong', '99', 'Strong', 74.0, 'Strong', 66.0, 'Weak', '65', 'Strong', '70', 'Strong', '56', 'Average', '47', '96.00%', 2.0, '96.40%', '95.80%', '80.1', '43.3', '89.6', '84.9', '60.7', '62.6', '81.9', '85.2', '52', '62.4', '66.3', '77.9', 69.7, 64.4, 0.2, 0.9, 'Yellow', 'Green', '67.1', '54.5', 'NDA', 'NDA', 'NDA', 'NDA', 'NDA', 'NDA', 'NDA', 'NDA', 'NDA', 'NDA', 813, 33, 'NDA', 1171699.458, 1915829.428, 41.92449696, -87.64452163, 7, 'LINCOLN PARK', 43, 18, '(41.92449696, -87.64452163)'),\n",
              " (610281, 'Adam Clayton Powell Paideia Community Academy Elementary School', 'ES', '7511 S South Shore Dr', 'Chicago', 'IL', 60649, '(773) 535-6650', 'http://schoolreports.cps.edu/SchoolProgressReport_Eng/Spring2011Eng_610281.pdf', 'Skyway Elementary Network', 'SOUTH SIDE COLLABORATIVE', 'No', 'Track_E', 'Not on Probation', 'Level 1', 'No', 'Average', 54.0, 'Strong', '66', 'Strong', 74.0, 'Very Strong', 84.0, 'Weak', '63', 'Strong', '76', 'Weak', '46', 'Average', '50', '95.60%', 15.7, '95.30%', '100.00%', '62.4', '51.7', '21.9', '15.1', '29', '42.8', '38.5', '27.4', '44.8', '42.7', '14.1', '34.4', 16.8, 16.5, 0.7, 1.4, 'Green', 'Green', '17.2', '27.3', 'NDA', 'NDA', 'NDA', 'NDA', 'NDA', 'NDA', 'NDA', 'NDA', 'NDA', 'NDA', 521, 46, 'NDA', 1196129.985, 1856209.466, 41.76032435, -87.55673627, 43, 'SOUTH SHORE', 7, 4, '(41.76032435, -87.55673627)'),\n",
              " (610185, 'Adlai E Stevenson Elementary School', 'ES', '8010 S Kostner Ave', 'Chicago', 'IL', 60652, '(773) 535-2280', 'http://schoolreports.cps.edu/SchoolProgressReport_Eng/Spring2011Eng_610185.pdf', 'Midway Elementary Network', 'SOUTHWEST SIDE COLLABORATIVE', 'No', 'Standard', 'Not on Probation', 'Level 2', 'No', 'Strong', 61.0, 'NDA', 'NDA', 'Average', 50.0, 'Weak', 36.0, 'Weak', 'NDA', 'NDA', 'NDA', 'Average', '47', 'Weak', '41', '95.70%', 2.3, '94.70%', '98.30%', '53.7', '26.6', '38.3', '34.7', '43.7', '57.3', '48.8', '39.2', '46.8', '44', '7.5', '21.9', 18.3, 15.5, -0.9, -1.0, 'Red', 'Red', 'NDA', 'NDA', 'NDA', 'NDA', 'NDA', 'NDA', 'NDA', 'NDA', 'NDA', 'NDA', 'NDA', 'NDA', 1324, 44, 'NDA', 1148427.165, 1851012.215, 41.74711093, -87.73170248, 70, 'ASHBURN', 13, 8, '(41.74711093, -87.73170248)'),\n",
              " (609993, 'Agustin Lara Elementary Academy', 'ES', '4619 S Wolcott Ave', 'Chicago', 'IL', 60609, '(773) 535-4389', 'http://schoolreports.cps.edu/SchoolProgressReport_Eng/Spring2011Eng_609993.pdf', 'Pershing Elementary Network', 'SOUTHWEST SIDE COLLABORATIVE', 'No', 'Track_E', 'Not on Probation', 'Level 1', 'No', 'Average', 56.0, 'Average', '44', 'Average', 45.0, 'Weak', 37.0, 'Weak', '65', 'Average', '48', 'Average', '53', 'Strong', '58', '95.50%', 10.4, '95.80%', '100.00%', '76.9', 'NDA', '26', '24.7', '61.8', '49.7', '39.2', '27.2', '69.7', '60.6', '9.1', '18.2', 11.1, 9.6, 0.9, 2.4, 'Green', 'Green', '42.9', '25', 'NDA', 'NDA', 'NDA', 'NDA', 'NDA', 'NDA', 'NDA', 'NDA', 'NDA', 'NDA', 556, 42, 'NDA', 1164504.29, 1873959.199, 41.8097569, -87.6721446, 61, 'NEW CITY', 20, 9, '(41.8097569, -87.6721446)'),\n",
              " (610513, 'Air Force Academy High School', 'HS', '3630 S Wells St', 'Chicago', 'IL', 60609, '(773) 535-1590', 'http://schoolreports.cps.edu/SchoolProgressReport_Eng/Spring2011Eng_610513.pdf', 'Southwest Side High School Network', 'SOUTHWEST SIDE COLLABORATIVE', 'NDA', 'Standard', 'Not on Probation', 'Not Enough Data', 'Yes', 'Average', 49.0, 'Strong', '60', 'Strong', 60.0, 'Average', 55.0, 'Weak', '45', 'Average', '54', 'Average', '53', 'Average', '49', '93.30%', 15.6, '96.90%', '100.00%', 'NDA', 'NDA', 'NDA', 'NDA', 'NDA', 'NDA', 'NDA', 'NDA', 'NDA', 'NDA', 'NDA', 'NDA', None, None, None, None, 'NDA', 'NDA', 'NDA', 'NDA', '14.6', '14.8', 'NDA', '16', '1.4', 'NDA', 'NDA', 'NDA', 'NDA', 'NDA', 302, 40, '91.8', 1175177.622, 1880745.126, 41.82814609, -87.63279369, 34, 'ARMOUR SQUARE', 11, 9, '(41.82814609, -87.63279369)')]"
            ],
            "text/html": [
              "<table>\n",
              "    <thead>\n",
              "        <tr>\n",
              "            <th>School_ID</th>\n",
              "            <th>NAME_OF_SCHOOL</th>\n",
              "            <th>Elementary, Middle, or High School</th>\n",
              "            <th>Street_Address</th>\n",
              "            <th>City</th>\n",
              "            <th>State</th>\n",
              "            <th>ZIP_Code</th>\n",
              "            <th>Phone_Number</th>\n",
              "            <th>Link</th>\n",
              "            <th>Network_Manager</th>\n",
              "            <th>Collaborative_Name</th>\n",
              "            <th>Adequate_Yearly_Progress_Made_</th>\n",
              "            <th>Track_Schedule</th>\n",
              "            <th>CPS_Performance_Policy_Status</th>\n",
              "            <th>CPS_Performance_Policy_Level</th>\n",
              "            <th>HEALTHY_SCHOOL_CERTIFIED</th>\n",
              "            <th>Safety_Icon</th>\n",
              "            <th>SAFETY_SCORE</th>\n",
              "            <th>Family_Involvement_Icon</th>\n",
              "            <th>Family_Involvement_Score</th>\n",
              "            <th>Environment_Icon</th>\n",
              "            <th>Environment_Score</th>\n",
              "            <th>Instruction_Icon</th>\n",
              "            <th>Instruction_Score</th>\n",
              "            <th>Leaders_Icon</th>\n",
              "            <th>Leaders_Score</th>\n",
              "            <th>Teachers_Icon</th>\n",
              "            <th>Teachers_Score</th>\n",
              "            <th>Parent_Engagement_Icon</th>\n",
              "            <th>Parent_Engagement_Score</th>\n",
              "            <th>Parent_Environment_Icon</th>\n",
              "            <th>Parent_Environment_Score</th>\n",
              "            <th>AVERAGE_STUDENT_ATTENDANCE</th>\n",
              "            <th>Rate_of_Misconducts__per_100_students_</th>\n",
              "            <th>Average_Teacher_Attendance</th>\n",
              "            <th>Individualized_Education_Program_Compliance_Rate</th>\n",
              "            <th>Pk_2_Literacy__</th>\n",
              "            <th>Pk_2_Math__</th>\n",
              "            <th>Gr3_5_Grade_Level_Math__</th>\n",
              "            <th>Gr3_5_Grade_Level_Read__</th>\n",
              "            <th>Gr3_5_Keep_Pace_Read__</th>\n",
              "            <th>Gr3_5_Keep_Pace_Math__</th>\n",
              "            <th>Gr6_8_Grade_Level_Math__</th>\n",
              "            <th>Gr6_8_Grade_Level_Read__</th>\n",
              "            <th>Gr6_8_Keep_Pace_Math_</th>\n",
              "            <th>Gr6_8_Keep_Pace_Read__</th>\n",
              "            <th>Gr_8_Explore_Math__</th>\n",
              "            <th>Gr_8_Explore_Read__</th>\n",
              "            <th>ISAT_Exceeding_Math__</th>\n",
              "            <th>ISAT_Exceeding_Reading__</th>\n",
              "            <th>ISAT_Value_Add_Math</th>\n",
              "            <th>ISAT_Value_Add_Read</th>\n",
              "            <th>ISAT_Value_Add_Color_Math</th>\n",
              "            <th>ISAT_Value_Add_Color_Read</th>\n",
              "            <th>Students_Taking__Algebra__</th>\n",
              "            <th>Students_Passing__Algebra__</th>\n",
              "            <th>9th Grade EXPLORE (2009)</th>\n",
              "            <th>9th Grade EXPLORE (2010)</th>\n",
              "            <th>10th Grade PLAN (2009)</th>\n",
              "            <th>10th Grade PLAN (2010)</th>\n",
              "            <th>Net_Change_EXPLORE_and_PLAN</th>\n",
              "            <th>11th Grade Average ACT (2011)</th>\n",
              "            <th>Net_Change_PLAN_and_ACT</th>\n",
              "            <th>College_Eligibility__</th>\n",
              "            <th>Graduation_Rate__</th>\n",
              "            <th>College_Enrollment_Rate__</th>\n",
              "            <th>COLLEGE_ENROLLMENT</th>\n",
              "            <th>General_Services_Route</th>\n",
              "            <th>Freshman_on_Track_Rate__</th>\n",
              "            <th>X_COORDINATE</th>\n",
              "            <th>Y_COORDINATE</th>\n",
              "            <th>Latitude</th>\n",
              "            <th>Longitude</th>\n",
              "            <th>COMMUNITY_AREA_NUMBER</th>\n",
              "            <th>COMMUNITY_AREA_NAME</th>\n",
              "            <th>Ward</th>\n",
              "            <th>Police_District</th>\n",
              "            <th>Location</th>\n",
              "        </tr>\n",
              "    </thead>\n",
              "    <tbody>\n",
              "        <tr>\n",
              "            <td>610038</td>\n",
              "            <td>Abraham Lincoln Elementary School</td>\n",
              "            <td>ES</td>\n",
              "            <td>615 W Kemper Pl</td>\n",
              "            <td>Chicago</td>\n",
              "            <td>IL</td>\n",
              "            <td>60614</td>\n",
              "            <td>(773) 534-5720</td>\n",
              "            <td>http://schoolreports.cps.edu/SchoolProgressReport_Eng/Spring2011Eng_610038.pdf</td>\n",
              "            <td>Fullerton Elementary Network</td>\n",
              "            <td>NORTH-NORTHWEST SIDE COLLABORATIVE</td>\n",
              "            <td>No</td>\n",
              "            <td>Standard</td>\n",
              "            <td>Not on Probation</td>\n",
              "            <td>Level 1</td>\n",
              "            <td>Yes</td>\n",
              "            <td>Very Strong</td>\n",
              "            <td>99.0</td>\n",
              "            <td>Very Strong</td>\n",
              "            <td>99</td>\n",
              "            <td>Strong</td>\n",
              "            <td>74.0</td>\n",
              "            <td>Strong</td>\n",
              "            <td>66.0</td>\n",
              "            <td>Weak</td>\n",
              "            <td>65</td>\n",
              "            <td>Strong</td>\n",
              "            <td>70</td>\n",
              "            <td>Strong</td>\n",
              "            <td>56</td>\n",
              "            <td>Average</td>\n",
              "            <td>47</td>\n",
              "            <td>96.00%</td>\n",
              "            <td>2.0</td>\n",
              "            <td>96.40%</td>\n",
              "            <td>95.80%</td>\n",
              "            <td>80.1</td>\n",
              "            <td>43.3</td>\n",
              "            <td>89.6</td>\n",
              "            <td>84.9</td>\n",
              "            <td>60.7</td>\n",
              "            <td>62.6</td>\n",
              "            <td>81.9</td>\n",
              "            <td>85.2</td>\n",
              "            <td>52</td>\n",
              "            <td>62.4</td>\n",
              "            <td>66.3</td>\n",
              "            <td>77.9</td>\n",
              "            <td>69.7</td>\n",
              "            <td>64.4</td>\n",
              "            <td>0.2</td>\n",
              "            <td>0.9</td>\n",
              "            <td>Yellow</td>\n",
              "            <td>Green</td>\n",
              "            <td>67.1</td>\n",
              "            <td>54.5</td>\n",
              "            <td>NDA</td>\n",
              "            <td>NDA</td>\n",
              "            <td>NDA</td>\n",
              "            <td>NDA</td>\n",
              "            <td>NDA</td>\n",
              "            <td>NDA</td>\n",
              "            <td>NDA</td>\n",
              "            <td>NDA</td>\n",
              "            <td>NDA</td>\n",
              "            <td>NDA</td>\n",
              "            <td>813</td>\n",
              "            <td>33</td>\n",
              "            <td>NDA</td>\n",
              "            <td>1171699.458</td>\n",
              "            <td>1915829.428</td>\n",
              "            <td>41.92449696</td>\n",
              "            <td>-87.64452163</td>\n",
              "            <td>7</td>\n",
              "            <td>LINCOLN PARK</td>\n",
              "            <td>43</td>\n",
              "            <td>18</td>\n",
              "            <td>(41.92449696, -87.64452163)</td>\n",
              "        </tr>\n",
              "        <tr>\n",
              "            <td>610281</td>\n",
              "            <td>Adam Clayton Powell Paideia Community Academy Elementary School</td>\n",
              "            <td>ES</td>\n",
              "            <td>7511 S South Shore Dr</td>\n",
              "            <td>Chicago</td>\n",
              "            <td>IL</td>\n",
              "            <td>60649</td>\n",
              "            <td>(773) 535-6650</td>\n",
              "            <td>http://schoolreports.cps.edu/SchoolProgressReport_Eng/Spring2011Eng_610281.pdf</td>\n",
              "            <td>Skyway Elementary Network</td>\n",
              "            <td>SOUTH SIDE COLLABORATIVE</td>\n",
              "            <td>No</td>\n",
              "            <td>Track_E</td>\n",
              "            <td>Not on Probation</td>\n",
              "            <td>Level 1</td>\n",
              "            <td>No</td>\n",
              "            <td>Average</td>\n",
              "            <td>54.0</td>\n",
              "            <td>Strong</td>\n",
              "            <td>66</td>\n",
              "            <td>Strong</td>\n",
              "            <td>74.0</td>\n",
              "            <td>Very Strong</td>\n",
              "            <td>84.0</td>\n",
              "            <td>Weak</td>\n",
              "            <td>63</td>\n",
              "            <td>Strong</td>\n",
              "            <td>76</td>\n",
              "            <td>Weak</td>\n",
              "            <td>46</td>\n",
              "            <td>Average</td>\n",
              "            <td>50</td>\n",
              "            <td>95.60%</td>\n",
              "            <td>15.7</td>\n",
              "            <td>95.30%</td>\n",
              "            <td>100.00%</td>\n",
              "            <td>62.4</td>\n",
              "            <td>51.7</td>\n",
              "            <td>21.9</td>\n",
              "            <td>15.1</td>\n",
              "            <td>29</td>\n",
              "            <td>42.8</td>\n",
              "            <td>38.5</td>\n",
              "            <td>27.4</td>\n",
              "            <td>44.8</td>\n",
              "            <td>42.7</td>\n",
              "            <td>14.1</td>\n",
              "            <td>34.4</td>\n",
              "            <td>16.8</td>\n",
              "            <td>16.5</td>\n",
              "            <td>0.7</td>\n",
              "            <td>1.4</td>\n",
              "            <td>Green</td>\n",
              "            <td>Green</td>\n",
              "            <td>17.2</td>\n",
              "            <td>27.3</td>\n",
              "            <td>NDA</td>\n",
              "            <td>NDA</td>\n",
              "            <td>NDA</td>\n",
              "            <td>NDA</td>\n",
              "            <td>NDA</td>\n",
              "            <td>NDA</td>\n",
              "            <td>NDA</td>\n",
              "            <td>NDA</td>\n",
              "            <td>NDA</td>\n",
              "            <td>NDA</td>\n",
              "            <td>521</td>\n",
              "            <td>46</td>\n",
              "            <td>NDA</td>\n",
              "            <td>1196129.985</td>\n",
              "            <td>1856209.466</td>\n",
              "            <td>41.76032435</td>\n",
              "            <td>-87.55673627</td>\n",
              "            <td>43</td>\n",
              "            <td>SOUTH SHORE</td>\n",
              "            <td>7</td>\n",
              "            <td>4</td>\n",
              "            <td>(41.76032435, -87.55673627)</td>\n",
              "        </tr>\n",
              "        <tr>\n",
              "            <td>610185</td>\n",
              "            <td>Adlai E Stevenson Elementary School</td>\n",
              "            <td>ES</td>\n",
              "            <td>8010 S Kostner Ave</td>\n",
              "            <td>Chicago</td>\n",
              "            <td>IL</td>\n",
              "            <td>60652</td>\n",
              "            <td>(773) 535-2280</td>\n",
              "            <td>http://schoolreports.cps.edu/SchoolProgressReport_Eng/Spring2011Eng_610185.pdf</td>\n",
              "            <td>Midway Elementary Network</td>\n",
              "            <td>SOUTHWEST SIDE COLLABORATIVE</td>\n",
              "            <td>No</td>\n",
              "            <td>Standard</td>\n",
              "            <td>Not on Probation</td>\n",
              "            <td>Level 2</td>\n",
              "            <td>No</td>\n",
              "            <td>Strong</td>\n",
              "            <td>61.0</td>\n",
              "            <td>NDA</td>\n",
              "            <td>NDA</td>\n",
              "            <td>Average</td>\n",
              "            <td>50.0</td>\n",
              "            <td>Weak</td>\n",
              "            <td>36.0</td>\n",
              "            <td>Weak</td>\n",
              "            <td>NDA</td>\n",
              "            <td>NDA</td>\n",
              "            <td>NDA</td>\n",
              "            <td>Average</td>\n",
              "            <td>47</td>\n",
              "            <td>Weak</td>\n",
              "            <td>41</td>\n",
              "            <td>95.70%</td>\n",
              "            <td>2.3</td>\n",
              "            <td>94.70%</td>\n",
              "            <td>98.30%</td>\n",
              "            <td>53.7</td>\n",
              "            <td>26.6</td>\n",
              "            <td>38.3</td>\n",
              "            <td>34.7</td>\n",
              "            <td>43.7</td>\n",
              "            <td>57.3</td>\n",
              "            <td>48.8</td>\n",
              "            <td>39.2</td>\n",
              "            <td>46.8</td>\n",
              "            <td>44</td>\n",
              "            <td>7.5</td>\n",
              "            <td>21.9</td>\n",
              "            <td>18.3</td>\n",
              "            <td>15.5</td>\n",
              "            <td>-0.9</td>\n",
              "            <td>-1.0</td>\n",
              "            <td>Red</td>\n",
              "            <td>Red</td>\n",
              "            <td>NDA</td>\n",
              "            <td>NDA</td>\n",
              "            <td>NDA</td>\n",
              "            <td>NDA</td>\n",
              "            <td>NDA</td>\n",
              "            <td>NDA</td>\n",
              "            <td>NDA</td>\n",
              "            <td>NDA</td>\n",
              "            <td>NDA</td>\n",
              "            <td>NDA</td>\n",
              "            <td>NDA</td>\n",
              "            <td>NDA</td>\n",
              "            <td>1324</td>\n",
              "            <td>44</td>\n",
              "            <td>NDA</td>\n",
              "            <td>1148427.165</td>\n",
              "            <td>1851012.215</td>\n",
              "            <td>41.74711093</td>\n",
              "            <td>-87.73170248</td>\n",
              "            <td>70</td>\n",
              "            <td>ASHBURN</td>\n",
              "            <td>13</td>\n",
              "            <td>8</td>\n",
              "            <td>(41.74711093, -87.73170248)</td>\n",
              "        </tr>\n",
              "        <tr>\n",
              "            <td>609993</td>\n",
              "            <td>Agustin Lara Elementary Academy</td>\n",
              "            <td>ES</td>\n",
              "            <td>4619 S Wolcott Ave</td>\n",
              "            <td>Chicago</td>\n",
              "            <td>IL</td>\n",
              "            <td>60609</td>\n",
              "            <td>(773) 535-4389</td>\n",
              "            <td>http://schoolreports.cps.edu/SchoolProgressReport_Eng/Spring2011Eng_609993.pdf</td>\n",
              "            <td>Pershing Elementary Network</td>\n",
              "            <td>SOUTHWEST SIDE COLLABORATIVE</td>\n",
              "            <td>No</td>\n",
              "            <td>Track_E</td>\n",
              "            <td>Not on Probation</td>\n",
              "            <td>Level 1</td>\n",
              "            <td>No</td>\n",
              "            <td>Average</td>\n",
              "            <td>56.0</td>\n",
              "            <td>Average</td>\n",
              "            <td>44</td>\n",
              "            <td>Average</td>\n",
              "            <td>45.0</td>\n",
              "            <td>Weak</td>\n",
              "            <td>37.0</td>\n",
              "            <td>Weak</td>\n",
              "            <td>65</td>\n",
              "            <td>Average</td>\n",
              "            <td>48</td>\n",
              "            <td>Average</td>\n",
              "            <td>53</td>\n",
              "            <td>Strong</td>\n",
              "            <td>58</td>\n",
              "            <td>95.50%</td>\n",
              "            <td>10.4</td>\n",
              "            <td>95.80%</td>\n",
              "            <td>100.00%</td>\n",
              "            <td>76.9</td>\n",
              "            <td>NDA</td>\n",
              "            <td>26</td>\n",
              "            <td>24.7</td>\n",
              "            <td>61.8</td>\n",
              "            <td>49.7</td>\n",
              "            <td>39.2</td>\n",
              "            <td>27.2</td>\n",
              "            <td>69.7</td>\n",
              "            <td>60.6</td>\n",
              "            <td>9.1</td>\n",
              "            <td>18.2</td>\n",
              "            <td>11.1</td>\n",
              "            <td>9.6</td>\n",
              "            <td>0.9</td>\n",
              "            <td>2.4</td>\n",
              "            <td>Green</td>\n",
              "            <td>Green</td>\n",
              "            <td>42.9</td>\n",
              "            <td>25</td>\n",
              "            <td>NDA</td>\n",
              "            <td>NDA</td>\n",
              "            <td>NDA</td>\n",
              "            <td>NDA</td>\n",
              "            <td>NDA</td>\n",
              "            <td>NDA</td>\n",
              "            <td>NDA</td>\n",
              "            <td>NDA</td>\n",
              "            <td>NDA</td>\n",
              "            <td>NDA</td>\n",
              "            <td>556</td>\n",
              "            <td>42</td>\n",
              "            <td>NDA</td>\n",
              "            <td>1164504.29</td>\n",
              "            <td>1873959.199</td>\n",
              "            <td>41.8097569</td>\n",
              "            <td>-87.6721446</td>\n",
              "            <td>61</td>\n",
              "            <td>NEW CITY</td>\n",
              "            <td>20</td>\n",
              "            <td>9</td>\n",
              "            <td>(41.8097569, -87.6721446)</td>\n",
              "        </tr>\n",
              "        <tr>\n",
              "            <td>610513</td>\n",
              "            <td>Air Force Academy High School</td>\n",
              "            <td>HS</td>\n",
              "            <td>3630 S Wells St</td>\n",
              "            <td>Chicago</td>\n",
              "            <td>IL</td>\n",
              "            <td>60609</td>\n",
              "            <td>(773) 535-1590</td>\n",
              "            <td>http://schoolreports.cps.edu/SchoolProgressReport_Eng/Spring2011Eng_610513.pdf</td>\n",
              "            <td>Southwest Side High School Network</td>\n",
              "            <td>SOUTHWEST SIDE COLLABORATIVE</td>\n",
              "            <td>NDA</td>\n",
              "            <td>Standard</td>\n",
              "            <td>Not on Probation</td>\n",
              "            <td>Not Enough Data</td>\n",
              "            <td>Yes</td>\n",
              "            <td>Average</td>\n",
              "            <td>49.0</td>\n",
              "            <td>Strong</td>\n",
              "            <td>60</td>\n",
              "            <td>Strong</td>\n",
              "            <td>60.0</td>\n",
              "            <td>Average</td>\n",
              "            <td>55.0</td>\n",
              "            <td>Weak</td>\n",
              "            <td>45</td>\n",
              "            <td>Average</td>\n",
              "            <td>54</td>\n",
              "            <td>Average</td>\n",
              "            <td>53</td>\n",
              "            <td>Average</td>\n",
              "            <td>49</td>\n",
              "            <td>93.30%</td>\n",
              "            <td>15.6</td>\n",
              "            <td>96.90%</td>\n",
              "            <td>100.00%</td>\n",
              "            <td>NDA</td>\n",
              "            <td>NDA</td>\n",
              "            <td>NDA</td>\n",
              "            <td>NDA</td>\n",
              "            <td>NDA</td>\n",
              "            <td>NDA</td>\n",
              "            <td>NDA</td>\n",
              "            <td>NDA</td>\n",
              "            <td>NDA</td>\n",
              "            <td>NDA</td>\n",
              "            <td>NDA</td>\n",
              "            <td>NDA</td>\n",
              "            <td>None</td>\n",
              "            <td>None</td>\n",
              "            <td>None</td>\n",
              "            <td>None</td>\n",
              "            <td>NDA</td>\n",
              "            <td>NDA</td>\n",
              "            <td>NDA</td>\n",
              "            <td>NDA</td>\n",
              "            <td>14.6</td>\n",
              "            <td>14.8</td>\n",
              "            <td>NDA</td>\n",
              "            <td>16</td>\n",
              "            <td>1.4</td>\n",
              "            <td>NDA</td>\n",
              "            <td>NDA</td>\n",
              "            <td>NDA</td>\n",
              "            <td>NDA</td>\n",
              "            <td>NDA</td>\n",
              "            <td>302</td>\n",
              "            <td>40</td>\n",
              "            <td>91.8</td>\n",
              "            <td>1175177.622</td>\n",
              "            <td>1880745.126</td>\n",
              "            <td>41.82814609</td>\n",
              "            <td>-87.63279369</td>\n",
              "            <td>34</td>\n",
              "            <td>ARMOUR SQUARE</td>\n",
              "            <td>11</td>\n",
              "            <td>9</td>\n",
              "            <td>(41.82814609, -87.63279369)</td>\n",
              "        </tr>\n",
              "    </tbody>\n",
              "</table>"
            ]
          },
          "metadata": {},
          "execution_count": 19
        }
      ]
    },
    {
      "cell_type": "code",
      "source": [
        "%sql SELECT AVG(SAFETY_SCORE) FROM Public WHERE NAME_OF_SCHOOL LIKE '%Middle%'"
      ],
      "metadata": {
        "colab": {
          "base_uri": "https://localhost:8080/",
          "height": 96
        },
        "id": "wiIidjw761Gx",
        "outputId": "6da7464d-5cc3-4769-f4ba-8a643696a311"
      },
      "execution_count": null,
      "outputs": [
        {
          "output_type": "stream",
          "name": "stdout",
          "text": [
            " * sqlite:///socioeconomic.db\n",
            "Done.\n"
          ]
        },
        {
          "output_type": "execute_result",
          "data": {
            "text/plain": [
              "[(46.2,)]"
            ],
            "text/html": [
              "<table>\n",
              "    <thead>\n",
              "        <tr>\n",
              "            <th>AVG(SAFETY_SCORE)</th>\n",
              "        </tr>\n",
              "    </thead>\n",
              "    <tbody>\n",
              "        <tr>\n",
              "            <td>46.2</td>\n",
              "        </tr>\n",
              "    </tbody>\n",
              "</table>"
            ]
          },
          "metadata": {},
          "execution_count": 20
        }
      ]
    },
    {
      "cell_type": "code",
      "source": [
        "%%sql\n",
        "SELECT COMMUNITY_AREA_NUMBER\n",
        "FROM Crime\n",
        "GROUP BY COMMUNITY_AREA_NUMBER\n",
        "ORDER BY COUNT(*) DESC\n",
        "LIMIT 1;"
      ],
      "metadata": {
        "colab": {
          "base_uri": "https://localhost:8080/",
          "height": 96
        },
        "id": "0je_W8Im8P5I",
        "outputId": "9942b063-bd07-4710-c508-b949f1cfc341"
      },
      "execution_count": null,
      "outputs": [
        {
          "output_type": "stream",
          "name": "stdout",
          "text": [
            " * sqlite:///socioeconomic.db\n",
            "Done.\n"
          ]
        },
        {
          "output_type": "execute_result",
          "data": {
            "text/plain": [
              "[(25.0,)]"
            ],
            "text/html": [
              "<table>\n",
              "    <thead>\n",
              "        <tr>\n",
              "            <th>COMMUNITY_AREA_NUMBER</th>\n",
              "        </tr>\n",
              "    </thead>\n",
              "    <tbody>\n",
              "        <tr>\n",
              "            <td>25.0</td>\n",
              "        </tr>\n",
              "    </tbody>\n",
              "</table>"
            ]
          },
          "metadata": {},
          "execution_count": 22
        }
      ]
    },
    {
      "cell_type": "code",
      "source": [
        "%sql SELECT COMMUNITY_AREA_NAME FROM Census WHERE COMMUNITY_AREA_NUMBER = 25"
      ],
      "metadata": {
        "colab": {
          "base_uri": "https://localhost:8080/",
          "height": 96
        },
        "id": "1UzF2Ubf8hUI",
        "outputId": "c277bd79-68b8-4a08-f02b-c8df420b37c4"
      },
      "execution_count": null,
      "outputs": [
        {
          "output_type": "stream",
          "name": "stdout",
          "text": [
            " * sqlite:///socioeconomic.db\n",
            "Done.\n"
          ]
        },
        {
          "output_type": "execute_result",
          "data": {
            "text/plain": [
              "[('Austin',)]"
            ],
            "text/html": [
              "<table>\n",
              "    <thead>\n",
              "        <tr>\n",
              "            <th>COMMUNITY_AREA_NAME</th>\n",
              "        </tr>\n",
              "    </thead>\n",
              "    <tbody>\n",
              "        <tr>\n",
              "            <td>Austin</td>\n",
              "        </tr>\n",
              "    </tbody>\n",
              "</table>"
            ]
          },
          "metadata": {},
          "execution_count": 23
        }
      ]
    }
  ]
}